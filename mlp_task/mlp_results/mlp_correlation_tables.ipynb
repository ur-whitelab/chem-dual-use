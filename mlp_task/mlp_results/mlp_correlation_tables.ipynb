{
 "cells": [
  {
   "cell_type": "code",
   "execution_count": null,
   "id": "25cf2a64",
   "metadata": {},
   "outputs": [],
   "source": [
    "import json\n",
    "import os\n",
    "import re\n",
    "import sys\n",
    "from dataclasses import dataclass\n",
    "from datetime import datetime\n",
    "\n",
    "import cairosvg\n",
    "#import dataframe_image as dfi\n",
    "import numpy as np\n",
    "import pandas as pd\n",
    "import skunk\n",
    "from scipy.stats import spearmanr\n",
    "\n",
    "sys.path.insert(1, '/path/to/application/app/folder')\n",
    "today_date = datetime.today().date()\n",
    "time_now = datetime.today().ctime()\n",
    "\n",
    "# packages & settings for plotting\n",
    "import matplotlib.pyplot as plt\n",
    "import matplotlib.font_manager as font_manager\n",
    "import urllib.request\n",
    "\n",
    "urllib.request.urlretrieve('https://github.com/google/fonts/raw/main/ofl/ibmplexmono/IBMPlexMono-Regular.ttf', 'IBMPlexMono-Regular.ttf')\n",
    "fe = font_manager.FontEntry(\n",
    "    fname='IBMPlexMono-Regular.ttf',\n",
    "    name='plexmono')\n",
    "font_manager.fontManager.ttflist.append(fe)\n",
    "plt.rcParams.update({'axes.facecolor':'#f5f4e9',\n",
    "            'grid.color' : '#AAAAAA',\n",
    "            'axes.edgecolor':'#333333',\n",
    "            'figure.facecolor':'#FFFFFF',\n",
    "            'axes.grid': False,\n",
    "                     \n",
    "            'axes.prop_cycle':   plt.cycler('color', plt.cm.Dark2.colors),\n",
    "            'font.family': fe.name,\n",
    "            'figure.figsize': (3.5,3.5 / 1.2),\n",
    "            'ytick.left': True,\n",
    "            'xtick.bottom': True   ,\n",
    "            'figure.dpi': 300\n",
    "           })"
   ]
  },
  {
   "cell_type": "code",
   "execution_count": null,
   "id": "21acbfa2",
   "metadata": {},
   "outputs": [],
   "source": [
    "censor_region = \"above\"\n",
    "censor_splits = [0.1, 0.5, 0.9]"
   ]
  },
  {
   "cell_type": "code",
   "execution_count": null,
   "id": "97d5eabc",
   "metadata": {},
   "outputs": [],
   "source": [
    "def local_spearman(y, yhat, threshold, above=True):\n",
    "    # Filter y and yhat based on the threshold\n",
    "    if above:\n",
    "        mask = np.array(y) > threshold\n",
    "    else:\n",
    "        mask = np.array(y) <= threshold\n",
    "\n",
    "    local_y = np.array(y)[mask]\n",
    "    local_yhat = np.array(yhat)[mask]\n",
    "\n",
    "    if len(local_y) > 1:  # Ensure there are at least 2 data points\n",
    "        corr, _ = spearmanr(local_y, local_yhat)\n",
    "        return corr\n",
    "    else:\n",
    "        return np.nan  # Not enough data points for a valid correlation\n",
    "    \n",
    "def create_dataframe(censor_split, censor_type, censor_intervals, tasks):\n",
    "    file_name = f'all_results/mlp_{censor_type}_results_split{censor_split}_{censor_region}/history.json'\n",
    "    with open(file_name, 'r') as f:\n",
    "        content = f.read()\n",
    "    parts = re.split(r'\\nRun from today: .*\\[\\n', content)\n",
    "    all_trials_results = json.loads('['+ parts[1]) # just get the first run\n",
    "\n",
    "    mean_above = []\n",
    "    mean_below = []\n",
    "    for task in tasks:\n",
    "        spearman_correlations = []\n",
    "        correlations_above = []\n",
    "        correlations_below = []\n",
    "        for result in all_trials_results:\n",
    "            threshold = result['censor_threshold']\n",
    "            ytest = result['y_test']\n",
    "            yhat = result['pred'][task]\n",
    "            overall_corr, _ = spearmanr(ytest, yhat)\n",
    "            spearman_correlations.append(overall_corr) \n",
    "            correlations_above.append(local_spearman(ytest, yhat, threshold, above=True))\n",
    "            correlations_below.append(local_spearman(ytest, yhat, threshold, above=False))\n",
    "        \n",
    "        mean_above.append(np.mean(correlations_above)) \n",
    "        mean_below.append(np.mean(correlations_below))\n",
    "    \n",
    "    df = pd.DataFrame({\n",
    "        censor_type: censor_intervals,\n",
    "        'lower corr': mean_below,\n",
    "        'upper corr': mean_above,\n",
    "    })\n",
    "    return df"
   ]
  },
  {
   "cell_type": "code",
   "execution_count": null,
   "id": "d4fa1140",
   "metadata": {
    "scrolled": true
   },
   "outputs": [],
   "source": [
    "censor_type = 'omit'\n",
    "omit_fractions = np.linspace(0, 1, int(1/0.1+1))\n",
    "tasks = [f'omit {int(omit_frac*100)}%' for omit_frac in omit_fractions]\n",
    "censor_intervals = omit_fractions \n",
    "\n",
    "df1 = create_dataframe(censor_splits[0], censor_type, censor_intervals, tasks)\n",
    "df1"
   ]
  },
  {
   "cell_type": "code",
   "execution_count": null,
   "id": "616580eb",
   "metadata": {},
   "outputs": [],
   "source": [
    "df0 = df1[['omit']]\n",
    "df1 = df1[['lower corr', 'upper corr']]\n",
    "df2 = create_dataframe(censor_splits[1], censor_type, censor_intervals, tasks)\n",
    "df2 = df2[['lower corr', 'upper corr']]\n",
    "df3 = create_dataframe(censor_splits[2], censor_type, censor_intervals, tasks)\n",
    "df3 = df3[['lower corr', 'upper corr']]"
   ]
  },
  {
   "cell_type": "code",
   "execution_count": null,
   "id": "04d781f0",
   "metadata": {
    "scrolled": true
   },
   "outputs": [],
   "source": [
    "omit_df = pd.concat(dict( SensitiveSplit10 = df1, SensitiveSplit50 = df2, SensitiveSplit90 = df3), axis=1)\n",
    "omit_df = omit_df.set_index(df0['omit'])\n",
    "#omit_df.to_csv('mlp_omit_table.csv')\n",
    "omit_df"
   ]
  },
  {
   "cell_type": "code",
   "execution_count": null,
   "id": "ea245768",
   "metadata": {},
   "outputs": [],
   "source": [
    "censor_type = 'ynoise'\n",
    "y_noise_levels = np.linspace(0, 10, int(2/0.2+1))\n",
    "tasks = [f'y noise level {y}' for y in y_noise_levels]\n",
    "censor_intervals = y_noise_levels \n",
    "\n",
    "df1 = create_dataframe(censor_splits[0], censor_type, censor_intervals, tasks)\n",
    "df0 = df1[['ynoise']]\n",
    "df1 = df1[['lower corr', 'upper corr']]\n",
    "df2 = create_dataframe(censor_splits[1], censor_type, censor_intervals, tasks)\n",
    "df2 = df2[['lower corr', 'upper corr']]\n",
    "df3 = create_dataframe(censor_splits[2], censor_type, censor_intervals, tasks)\n",
    "df3 = df3[['lower corr', 'upper corr']]"
   ]
  },
  {
   "cell_type": "code",
   "execution_count": null,
   "id": "39ac5129",
   "metadata": {},
   "outputs": [],
   "source": [
    "ynoise_df = pd.concat(dict( SensitiveSplit10 = df1, SensitiveSplit50 = df2, SensitiveSplit90 = df3), axis=1)\n",
    "ynoise_df = ynoise_df.set_index(df0['ynoise'])\n",
    "#ynoise_df.to_csv('mlp_ynoise_table.csv')\n",
    "ynoise_df"
   ]
  },
  {
   "cell_type": "code",
   "execution_count": null,
   "id": "af2186ca",
   "metadata": {},
   "outputs": [],
   "source": [
    "censor_type = 'xnoise'\n",
    "x_noise_levels = np.linspace(0, 2, int(2/0.1+1))\n",
    "tasks = [f'xn_level{x:0.1f}' for x in x_noise_levels]\n",
    "censor_intervals = x_noise_levels \n",
    "\n",
    "df1 = create_dataframe(censor_splits[0], censor_type, censor_intervals, tasks)\n",
    "df0 = df1[['xnoise']]\n",
    "df1 = df1[['lower corr', 'upper corr']]\n",
    "df2 = create_dataframe(censor_splits[1], censor_type, censor_intervals, tasks)\n",
    "df2 = df2[['lower corr', 'upper corr']]\n",
    "df3 = create_dataframe(censor_splits[2], censor_type, censor_intervals, tasks)\n",
    "df3 = df3[['lower corr', 'upper corr']]"
   ]
  },
  {
   "cell_type": "code",
   "execution_count": null,
   "id": "89594242",
   "metadata": {},
   "outputs": [],
   "source": [
    "xnoise_df = pd.concat(dict( SensitiveSplit10 = df1, SensitiveSplit50 = df2, SensitiveSplit90 = df3), axis=1)\n",
    "xnoise_df = xnoise_df.set_index(df0['xnoise'])\n",
    "#xnoise_df.to_csv('mlp_xnoise_table.csv')\n",
    "xnoise_df"
   ]
  }
 ],
 "metadata": {
  "kernelspec": {
   "display_name": "dualusage",
   "language": "python",
   "name": "dualusage"
  },
  "language_info": {
   "codemirror_mode": {
    "name": "ipython",
    "version": 3
   },
   "file_extension": ".py",
   "mimetype": "text/x-python",
   "name": "python",
   "nbconvert_exporter": "python",
   "pygments_lexer": "ipython3",
   "version": "3.9.16"
  }
 },
 "nbformat": 4,
 "nbformat_minor": 5
}
