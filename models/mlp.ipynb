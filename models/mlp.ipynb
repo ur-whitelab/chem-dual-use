{
  "nbformat": 4,
  "nbformat_minor": 0,
  "metadata": {
    "colab": {
      "provenance": []
    },
    "kernelspec": {
      "name": "python3",
      "display_name": "Python 3"
    },
    "language_info": {
      "name": "python"
    }
  },
  "cells": [
    {
      "cell_type": "code",
      "source": [
        "import numpy as np\n",
        "\n",
        "# packages for plotting\n",
        "import matplotlib.pyplot as plt\n",
        "import matplotlib.font_manager as font_manager\n",
        "import urllib.request\n",
        "\n",
        "urllib.request.urlretrieve('https://github.com/google/fonts/raw/main/ofl/ibmplexmono/IBMPlexMono-Regular.ttf', 'IBMPlexMono-Regular.ttf')\n",
        "fe = font_manager.FontEntry(\n",
        "    fname='IBMPlexMono-Regular.ttf',\n",
        "    name='plexmono')\n",
        "font_manager.fontManager.ttflist.append(fe)\n",
        "plt.rcParams.update({'axes.facecolor':'#f5f4e9', \n",
        "            'grid.color' : '#AAAAAA', \n",
        "            'axes.edgecolor':'#333333', \n",
        "            'figure.facecolor':'#FFFFFF', \n",
        "            'axes.grid': False,\n",
        "            'axes.prop_cycle':   plt.cycler('color', plt.cm.Dark2.colors),\n",
        "            'font.family': fe.name,\n",
        "            'figure.figsize': (3.5,3.5 / 1.2),\n",
        "            'ytick.left': True,\n",
        "            'xtick.bottom': True   ,\n",
        "            'figure.dpi': 300\n",
        "           })"
      ],
      "metadata": {
        "id": "zHe892hhaKBT"
      },
      "execution_count": null,
      "outputs": []
    },
    {
      "cell_type": "markdown",
      "source": [
        "##### MLP"
      ],
      "metadata": {
        "id": "uFOC0LBl7Xpj"
      }
    },
    {
      "cell_type": "code",
      "source": [
        "import torch\n",
        "import torch.nn as nn\n",
        "import torch.nn.functional as F\n",
        "import matplotlib.pyplot as plt\n",
        "import numpy as np\n",
        "\n",
        "\n",
        "class mlp(nn.Module):\n",
        "    def __init__(self, input_dim, hidden_dim):\n",
        "        super(mlp, self).__init__()\n",
        "        # fully connected layers\n",
        "        self.fc1 = nn.Linear(input_dim, hidden_dim)\n",
        "        self.fc2 = nn.Linear(hidden_dim, 1)\n",
        "    \n",
        "\n",
        "    def forward(self,x):\n",
        "        h = torch.relu(self.fc1(x))\n",
        "        h = self.fc2(h)\n",
        "        return h.squeeze()\n",
        "\n",
        "def weights_init(m):\n",
        "    if isinstance(m, nn.Linear):\n",
        "        nn.init.kaiming_uniform_(m.weight)\n",
        "        nn.init.constant_(m.bias, 0.0)\n",
        "\n",
        "\n",
        "\n",
        "#------ MLP 1: generative model ------#\n",
        "\n",
        "def generatedata(Din, hidden_dim=64, num_samples=500):\n",
        "    # generate # data points with the dimensionality of Din\n",
        "    hidden_dim = 64\n",
        "    gen_model = mlp(Din,hidden_dim)\n",
        "    gen_model.apply(weights_init)\n",
        "    gen_model.eval()\n",
        "\n",
        "    with torch.no_grad():\n",
        "        features = torch.torch.distributions.Uniform(low=-2, high=2).sample((num_samples,Din))\n",
        "        labels = gen_model(features) + torch.normal(0., 0.1, size=(1,num_samples)).squeeze()\n",
        "    return features, labels\n",
        "\n",
        "#--------- Noising the data ----------#\n",
        "\n",
        "def noising(data, xnoiselevel, ynoiselevel, threshold=0, noise_region='above', plot=True):\n",
        "    x, y = data\n",
        "    x = x.numpy()\n",
        "    y = y.numpy()\n",
        "    if noise_region == 'above':\n",
        "        xnoise = xnoiselevel * np.random.normal(size=x.shape) * np.select([y>threshold],[1], 0).reshape(-1,1)\n",
        "        ynoise = ynoiselevel * np.random.normal(size=y.shape) * np.select([y>threshold],[1], 0)\n",
        "    elif noise_region == 'below':\n",
        "        xnoise = xnoiselevel * np.random.normal(size=x.shape) * np.select([y<threshold],[1], 0).reshape(-1,1)\n",
        "        ynoise = ynoiselevel * np.random.normal(size=y.shape) * np.select([y<threshold],[1], 0)\n",
        "    else:\n",
        "          raise Exception(\"'targetregion' argument can only accept 'below' or 'above'\")\n",
        "    xn = x + np.float32(xnoise)\n",
        "    yn = y + np.float32(ynoise)\n",
        "    if plot:\n",
        "      # to be certain only desired region is noised\n",
        "      # no method of verifying xn vs y yet\n",
        "        plt.scatter(y,yn)\n",
        "        plt.title('sanity check: noised y vs. raw y')\n",
        "        plt.show()\n",
        "    return torch.tensor(xn), torch.tensor(yn)\n",
        "\n",
        "#------ MLP 2: the actual model ------#\n",
        "\n",
        "def train(model, data, optimizer, num_epochs=50):\n",
        "    model.train()\n",
        "    features, labels = data\n",
        "    losses = []\n",
        "    for epoch in range(num_epochs):\n",
        "        pred = model(features)\n",
        "        loss = F.mse_loss(pred,labels)\n",
        "        optimizer.zero_grad()\n",
        "        loss.backward()\n",
        "        optimizer.step()\n",
        "        losses.append(loss.item())\n",
        "        if epoch % 10 == 0:\n",
        "            print(f'Epoch [{epoch}/{num_epochs}], Loss: {loss:.4f}')\n",
        "    return losses\n",
        "\n",
        "\n",
        "def local_mse(y,yhat, min, max):\n",
        "    y, yhat = torch.tensor(y), torch.tensor(yhat)\n",
        "    mask = (y >= min) & (y <= max)\n",
        "    local_y = y[mask]\n",
        "    local_yhat = yhat[mask]\n",
        "    local_mse = F.mse_loss(local_yhat, local_y)\n",
        "    return local_mse.item()\n",
        "\n",
        "def filterdata_by_label(data, threshold, omitregion):\n",
        "    if omitregion not in ['above', 'below']:\n",
        "        raise ValueError(\"omitregion must be either 'above' or 'below'\")\n",
        "    x,y = data\n",
        "    filtered_x = []\n",
        "    filtered_y = []\n",
        "    print(x)\n",
        "    \n",
        "    for i, label in enumerate(y):\n",
        "        if omitregion == 'above':\n",
        "            if label < threshold:\n",
        "                filtered_x.append(x[i])\n",
        "                filtered_y.append(label)\n",
        "        else:\n",
        "            if label > threshold:\n",
        "                filtered_x.append(x[i])\n",
        "                filtered_y.append(label)\n",
        "    \n",
        "    if len(filtered_x) == 1:\n",
        "        filtered_x = filtered_x[0]\n",
        "    else:\n",
        "        x_shape = filtered_x[0].shape\n",
        "        filtered_x = torch.stack(filtered_x).reshape(len(filtered_x), *x_shape)\n",
        "        \n",
        "    if len(filtered_y) == 1:\n",
        "        filtered_y = filtered_y[0]\n",
        "    else:\n",
        "        filtered_y = torch.tensor(filtered_y)\n",
        "        \n",
        "    return filtered_x, filtered_y"
      ],
      "metadata": {
        "id": "8cT37tyv7Vcr"
      },
      "execution_count": null,
      "outputs": []
    },
    {
      "cell_type": "code",
      "source": [
        "Din = 50\n",
        "hidden_dim = 64\n",
        "num_epochs = 60\n",
        "num_samples = 2000\n",
        "data = generatedata(Din, hidden_dim, num_samples)\n",
        "features, labels = data\n",
        "# print('Generated Labels:', labels.tolist())\n",
        "# plt.hist(labels)\n",
        "# plt.show()"
      ],
      "metadata": {
        "id": "DHnufA6s9Pn-"
      },
      "execution_count": null,
      "outputs": []
    },
    {
      "cell_type": "markdown",
      "source": [
        "###### Omission baseline"
      ],
      "metadata": {
        "id": "hbjxQubMlrdE"
      }
    },
    {
      "cell_type": "code",
      "source": [
        "threshold=0\n",
        "newdata = filterdata_by_label(data, threshold, omitregion='above')\n",
        "omission_model = mlp(Din,hidden_dim)\n",
        "optimizer = torch.optim.Adam(omission_model.parameters(), lr=0.01)\n",
        "losses = train(omission_model, newdata, optimizer, num_epochs)\n",
        "\n",
        "plt.plot(losses)\n",
        "plt.title('Training Loss')\n",
        "plt.xlabel('epoch')\n",
        "plt.ylabel('mse loss')\n",
        "plt.show()"
      ],
      "metadata": {
        "id": "OdzF0lZClvys"
      },
      "execution_count": null,
      "outputs": []
    },
    {
      "cell_type": "code",
      "source": [
        "omission_model.eval()\n",
        "with torch.no_grad():\n",
        "  y_pred = omission_model(features).detach().numpy()\n",
        "y_true = labels\n",
        "\n",
        "th = 0 #threshold\n",
        "lower_mse = local_mse(y_true,y_pred, -100, th)\n",
        "upper_mse = local_mse(y_true,y_pred, th, 100)\n",
        "\n",
        "#plt.title('Original')\n",
        "plt.scatter(y_true, y_pred, s=10, alpha=0.5)\n",
        "plt.plot([-10,10],[-10,10])\n",
        "plt.plot([th,th],[-10,10],'--',alpha=0.5)\n",
        "plt.xlim(-6,6)\n",
        "plt.ylim(-6,6)\n",
        "plt.text(-5,-6+0.5,f'mse: {lower_mse:.3f}')\n",
        "plt.text(1,-6+0.5,f'mse: {upper_mse:.3f}')\n",
        "plt.xlabel('true labels')\n",
        "plt.ylabel('predicted labels')\n",
        "plt.title('Omitted y>0')\n",
        "plt.tight_layout()\n",
        "plt.savefig('mlp_omission.png',dpi=300)\n",
        "plt.show()"
      ],
      "metadata": {
        "id": "31qc0P-Wl7oO"
      },
      "execution_count": null,
      "outputs": []
    },
    {
      "cell_type": "markdown",
      "source": [
        "###### Baseline (no noise added)"
      ],
      "metadata": {
        "id": "UPoGjOaX71sA"
      }
    },
    {
      "cell_type": "code",
      "source": [
        "baseline_model = mlp(Din,hidden_dim)\n",
        "optimizer = torch.optim.Adam(baseline_model.parameters(), lr=0.01)\n",
        "losses = train(baseline_model, data, optimizer, num_epochs)\n",
        "\n",
        "plt.plot(losses)\n",
        "plt.title('Training Loss')\n",
        "plt.xlabel('epoch')\n",
        "plt.ylabel('mse loss')\n",
        "plt.show()"
      ],
      "metadata": {
        "id": "rRfGpoN98B0R"
      },
      "execution_count": null,
      "outputs": []
    },
    {
      "cell_type": "code",
      "source": [
        "baseline_model.eval()\n",
        "with torch.no_grad():\n",
        "  y_pred = baseline_model(features).detach().numpy()\n",
        "y_true = labels\n",
        "\n",
        "th = 0 #threshold\n",
        "lower_mse = local_mse(y_true,y_pred, -100, th)\n",
        "upper_mse = local_mse(y_true,y_pred, th, 100)\n",
        "\n",
        "#plt.title('Original')\n",
        "plt.scatter(y_true, y_pred, s=10, alpha=0.5)\n",
        "plt.plot([-10,10],[-10,10])\n",
        "plt.plot([th,th],[-10,10],'--',alpha=0.5)\n",
        "plt.xlim(-6,6)\n",
        "plt.ylim(-6,6)\n",
        "plt.text(-5,-6+0.5,f'mse: {lower_mse:.3f}')\n",
        "plt.text(1,-6+0.5,f'mse: {upper_mse:.3f}')\n",
        "plt.xlabel('true labels')\n",
        "plt.ylabel('predicted labels')\n",
        "plt.title('No modification')\n",
        "plt.tight_layout()\n",
        "plt.savefig('mlp_nonoise.png',dpi=300)\n",
        "plt.show()"
      ],
      "metadata": {
        "id": "XV8e1pYJ-5TB"
      },
      "execution_count": null,
      "outputs": []
    },
    {
      "cell_type": "markdown",
      "source": [
        "###### Adding y noise"
      ],
      "metadata": {
        "id": "yEr63sg8_e5x"
      }
    },
    {
      "cell_type": "code",
      "source": [
        "ynoiselevel = 1.0\n",
        "threshold = 0\n",
        "ynoiseddata = noising(data, 0, ynoiselevel, threshold, plot=True)\n",
        "\n",
        "ynoise_model = mlp(Din,hidden_dim)\n",
        "optimizer = torch.optim.Adam(ynoise_model.parameters(), lr=0.01)\n",
        "losses = train(ynoise_model, ynoiseddata, optimizer, num_epochs)\n",
        "\n",
        "plt.plot(losses)\n",
        "plt.title('Training Loss')\n",
        "plt.xlabel('epoch')\n",
        "plt.ylabel('mse loss')\n",
        "plt.show()"
      ],
      "metadata": {
        "id": "gFw0G3QV_nL-"
      },
      "execution_count": null,
      "outputs": []
    },
    {
      "cell_type": "code",
      "source": [
        "# to ensure it fits the noised data well \n",
        "xn, yn = ynoiseddata\n",
        "ynoise_model.eval()\n",
        "with torch.no_grad():\n",
        "  yn_pred = ynoise_model(xn).detach().numpy()\n",
        "\n",
        "plt.scatter(yn, yn_pred)\n",
        "plt.title('Training parity plot')\n",
        "plt.xlabel('noised labels')\n",
        "plt.ylabel('predicted labels')\n",
        "plt.plot([-10,10],[-10,10])\n",
        "plt.xlim(-6,6)\n",
        "plt.ylim(-6,6)\n",
        "plt.tight_layout()\n",
        "plt.show()"
      ],
      "metadata": {
        "id": "3RqNhd8KAj0g"
      },
      "execution_count": null,
      "outputs": []
    },
    {
      "cell_type": "code",
      "source": [
        "x, y = data\n",
        "ynoise_model.eval()\n",
        "with torch.no_grad():\n",
        "  y_pred = ynoise_model(x).detach().numpy()\n",
        "\n",
        "th = 0 #threshold\n",
        "lower_mse = local_mse(y,y_pred, -100, th)\n",
        "upper_mse = local_mse(y,y_pred, th, 100)\n",
        "\n",
        "plt.scatter(y,y_pred, s=10, alpha=0.5)\n",
        "plt.plot([-10,10],[-10,10])\n",
        "plt.xlim(-6,6)\n",
        "plt.ylim(-6,6)\n",
        "plt.plot([0,0],[-10,10],'--',alpha=0.5)\n",
        "plt.text(-5,-6+0.5,f'mse: {lower_mse:.3f}')\n",
        "plt.text(1,-6+0.5,f'mse: {upper_mse:.3f}')\n",
        "plt.xlabel('true labels')\n",
        "plt.ylabel('predicted labels')\n",
        "plt.title('Added y noise')\n",
        "plt.tight_layout()\n",
        "plt.savefig('mlp_ynoise.png',dpi=300)\n",
        "plt.show()"
      ],
      "metadata": {
        "id": "VCE5nb62BO-s"
      },
      "execution_count": null,
      "outputs": []
    },
    {
      "cell_type": "markdown",
      "source": [
        "###### Adding x noise"
      ],
      "metadata": {
        "id": "CkVqMRZ-LPbE"
      }
    },
    {
      "cell_type": "code",
      "source": [
        "xnoiselevel = 2\n",
        "threshold = 0\n",
        "xnoiseddata = noising(data, xnoiselevel, 0, threshold, plot=False)\n",
        "\n",
        "xnoise_model = mlp(Din,hidden_dim)\n",
        "optimizer = torch.optim.Adam(xnoise_model.parameters(), lr=0.01)\n",
        "losses = train(xnoise_model, xnoiseddata, optimizer, num_epochs)\n",
        "\n",
        "plt.plot(losses)\n",
        "plt.title('Training Loss')\n",
        "plt.xlabel('epoch')\n",
        "plt.ylabel('mse loss')\n",
        "plt.show()"
      ],
      "metadata": {
        "id": "k49KVissLPbR"
      },
      "execution_count": null,
      "outputs": []
    },
    {
      "cell_type": "code",
      "source": [
        "# to ensure it fits the noised data well \n",
        "xn, yn = xnoiseddata\n",
        "xnoise_model.eval()\n",
        "with torch.no_grad():\n",
        "  yn_pred = xnoise_model(xn).detach().numpy()\n",
        "\n",
        "plt.scatter(yn, yn_pred)\n",
        "plt.title('Training parity plot')\n",
        "plt.xlabel('noised labels')\n",
        "plt.ylabel('predicted labels')\n",
        "plt.plot([-10,10],[-10,10])\n",
        "plt.xlim(-6,6)\n",
        "plt.ylim(-6,6)\n",
        "plt.show()"
      ],
      "metadata": {
        "id": "X5XboNr3LPbS"
      },
      "execution_count": null,
      "outputs": []
    },
    {
      "cell_type": "code",
      "source": [
        "x, y = data\n",
        "xnoise_model.eval()\n",
        "with torch.no_grad():\n",
        "  y_pred = xnoise_model(x).detach().numpy()\n",
        "\n",
        "lower_mse = local_mse(y,y_pred, -100, th)\n",
        "upper_mse = local_mse(y,y_pred, th, 100)\n",
        "\n",
        "plt.scatter(y, y_pred, s=10, alpha=0.5)\n",
        "plt.plot([-10,10],[-10,10])\n",
        "plt.xlim(-6,6)\n",
        "plt.ylim(-6,6)\n",
        "plt.text(-5,-6+0.5,f'mse: {lower_mse:.3f}')\n",
        "plt.text(1,-6+0.5,f'mse: {upper_mse:.3f}')\n",
        "plt.xlabel('true labels')\n",
        "plt.ylabel('predicted labels')\n",
        "plt.title('Added x noise')\n",
        "plt.plot([0,0],[-10,10],'--',alpha=0.5)\n",
        "plt.tight_layout()\n",
        "plt.savefig('mlp_xnoise.png',dpi=300)\n",
        "plt.show()"
      ],
      "metadata": {
        "id": "EdJ6Xd5GLPbS"
      },
      "execution_count": null,
      "outputs": []
    }
  ]
}